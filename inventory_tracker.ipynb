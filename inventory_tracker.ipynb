{
  "cells": [
    {
      "cell_type": "markdown",
      "metadata": {
        "id": "view-in-github",
        "colab_type": "text"
      },
      "source": [
        "<a href=\"https://colab.research.google.com/github/mjassiri/inventory-tracker/blob/main/inventory_tracker.ipynb\" target=\"_parent\"><img src=\"https://colab.research.google.com/assets/colab-badge.svg\" alt=\"Open In Colab\"/></a>"
      ]
    },
    {
      "cell_type": "code",
      "execution_count": null,
      "metadata": {
        "colab": {
          "base_uri": "https://localhost:8080/"
        },
        "id": "5sNEM_lY8yym",
        "outputId": "03fee657-ee94-48bd-8ebf-8f38af9fcf56"
      },
      "outputs": [
        {
          "name": "stdout",
          "output_type": "stream",
          "text": [
            "Mounted at /content/drive\n"
          ]
        }
      ],
      "source": [
        "from google.colab import drive\n",
        "drive.mount('/content/drive')\n",
        "import json\n",
        "import os\n",
        "\n",
        "FILEPATH = \"/content/drive/MyDrive/inventory.json\""
      ]
    },
    {
      "cell_type": "code",
      "execution_count": null,
      "metadata": {
        "id": "UblqpS2r9GUD"
      },
      "outputs": [],
      "source": [
        "class InventoryManager:\n",
        "    def __init__(self):\n",
        "        self.inventory = {}\n",
        "        self.load_inventory()\n",
        "\n",
        "    def load_inventory(self):\n",
        "        if os.path.exists(FILEPATH):\n",
        "            with open(FILEPATH, 'r') as file:\n",
        "                self.inventory = json.load(file)\n",
        "        else:\n",
        "            self.inventory = {}\n",
        "\n",
        "    def save_inventory(self):\n",
        "        with open(FILEPATH, 'w') as file:\n",
        "            json.dump(self.inventory, file)\n",
        "\n",
        "    def add_product(self, product_id, item, price, quantity):\n",
        "      self.inventory[product_id] = {\n",
        "          \"item\": item,\n",
        "          \"price\": price,\n",
        "          \"quantity\": quantity\n",
        "      }\n",
        "      self.save_inventory()\n",
        "      return True\n",
        "\n",
        "    def remove_product(self, product_id):\n",
        "      if product_id in self.inventory:\n",
        "        del self.inventory[product_id]\n",
        "        self.save_inventory()\n",
        "        return True\n",
        "      else:\n",
        "        return False\n",
        "\n",
        "    def edit_product(self, product_id, item, price, quantity):\n",
        "      if product_id in self.inventory:\n",
        "        self.inventory[product_id] = {\n",
        "            \"item\": item,\n",
        "            \"price\": price,\n",
        "            \"quantity\": quantity\n",
        "        }\n",
        "        self.save_inventory()\n",
        "        return True\n",
        "      else:\n",
        "        return False\n",
        "\n",
        "    def view_products(self):\n",
        "      return self.inventory\n",
        "\n",
        "    def view_product(self, product_id):\n",
        "      return self.inventory.get(product_id)"
      ]
    },
    {
      "cell_type": "code",
      "execution_count": null,
      "metadata": {
        "id": "Kn47saEuGXbJ"
      },
      "outputs": [],
      "source": [
        "def main():\n",
        "  manager = InventoryManager()\n",
        "  while True:\n",
        "    print(\"Inventory Tracker\")\n",
        "    print(\"1.Add product\")\n",
        "    print(\"2.Remove product\")\n",
        "    print(\"3.Edit product\")\n",
        "    print(\"4.View specific product\")\n",
        "    print(\"5.View all products\")\n",
        "    print(\"6.Exit\")\n",
        "\n",
        "    try:\n",
        "      choice = int(input(\"Choose an option:\"))\n",
        "      if choice == 1:\n",
        "        try:\n",
        "          product_id = input(\"Enter Product ID:\")\n",
        "          item = input(\"Enter item name:\")\n",
        "          price = float(input(\"Enter item price:\"))\n",
        "          quantity = int(input(\"Enter item quantity:\"))\n",
        "          if manager.add_product(product_id, item, price, quantity):\n",
        "            print(\"Product successfully added!\")\n",
        "        except ValueError:\n",
        "          print(\"Please enter valid price or quantity\")\n",
        "      elif choice == 2:\n",
        "        product_id = input(\"Enter Product ID:\")\n",
        "        if manager.remove_product(product_id):\n",
        "          print(f\"Product ID: {product_id} successfully deleted\")\n",
        "        else:\n",
        "          print(f\"Product ID: {product_id} does not exist\")\n",
        "      elif choice == 3:\n",
        "        try:\n",
        "          product_id = input(\"Enter product ID:\")\n",
        "          item = input(\"Confirm item name:\")\n",
        "          price = float(input(\"Enter new item price:\"))\n",
        "          quantity = int(input(\"Enter new quantity of product:\"))\n",
        "          if manager.edit_product(product_id, item, price, quantity):\n",
        "            print(f\"Product ID: {product_id} successfully edited!\")\n",
        "          else:\n",
        "            print(f\"Product ID: {product_id} does not exist\")\n",
        "        except ValueError:\n",
        "          print(\"Please enter valid price or quantity\")\n",
        "      elif choice == 4:\n",
        "        product_id = input(\"Enter product ID:\")\n",
        "        product = manager.view_product(product_id)\n",
        "        if product:\n",
        "          print(f\"Item: {product['item']}\")\n",
        "          print(f\"Price: {product['price']}\")\n",
        "          print(f\"Quantity: {product['quantity']}\")\n",
        "        else:\n",
        "          print(f\"Product ID: {product_id} does not exist\")\n",
        "      elif choice == 5:\n",
        "        print(manager.view_products())\n",
        "      elif choice == 6:\n",
        "        break\n",
        "\n",
        "      else:\n",
        "        print(\"Invalid option. Please choose 1-6.\")\n",
        "\n",
        "    except ValueError:\n",
        "      print(\"Please enter a valid input\")\n",
        "\n",
        "\n",
        "\n",
        "\n",
        "\n",
        "\n",
        "\n",
        "\n",
        "\n",
        "\n",
        "\n",
        "\n",
        "\n",
        "\n",
        "\n",
        "\n",
        "\n"
      ]
    },
    {
      "cell_type": "code",
      "execution_count": null,
      "metadata": {
        "colab": {
          "base_uri": "https://localhost:8080/",
          "height": 811
        },
        "id": "o4o1tKnZkb5g",
        "outputId": "59c53e75-7b64-42f8-e28d-3088f4c316c6"
      },
      "outputs": [
        {
          "metadata": {
            "tags": null
          },
          "name": "stdout",
          "output_type": "stream",
          "text": [
            "Inventory Tracker\n",
            "1.Add product\n",
            "2.Remove product\n",
            "3.Edit product\n",
            "4.View specific product\n",
            "5.View all products\n",
            "6.Exit\n",
            "{'001': {'item': 'Apple', 'price': 1.5, 'quantity': 100}}\n",
            "Inventory Tracker\n",
            "1.Add product\n",
            "2.Remove product\n",
            "3.Edit product\n",
            "4.View specific product\n",
            "5.View all products\n",
            "6.Exit\n",
            "Product successfully added!\n",
            "Inventory Tracker\n",
            "1.Add product\n",
            "2.Remove product\n",
            "3.Edit product\n",
            "4.View specific product\n",
            "5.View all products\n",
            "6.Exit\n"
          ]
        },
        {
          "output_type": "error",
          "ename": "KeyboardInterrupt",
          "evalue": "Interrupted by user",
          "traceback": [
            "\u001b[0;31m---------------------------------------------------------------------------\u001b[0m",
            "\u001b[0;31mKeyboardInterrupt\u001b[0m                         Traceback (most recent call last)",
            "\u001b[0;32m<ipython-input-4-263240bbee7e>\u001b[0m in \u001b[0;36m<cell line: 0>\u001b[0;34m()\u001b[0m\n\u001b[0;32m----> 1\u001b[0;31m \u001b[0mmain\u001b[0m\u001b[0;34m(\u001b[0m\u001b[0;34m)\u001b[0m\u001b[0;34m\u001b[0m\u001b[0;34m\u001b[0m\u001b[0m\n\u001b[0m",
            "\u001b[0;32m<ipython-input-3-b985d2a58515>\u001b[0m in \u001b[0;36mmain\u001b[0;34m()\u001b[0m\n\u001b[1;32m     11\u001b[0m \u001b[0;34m\u001b[0m\u001b[0m\n\u001b[1;32m     12\u001b[0m     \u001b[0;32mtry\u001b[0m\u001b[0;34m:\u001b[0m\u001b[0;34m\u001b[0m\u001b[0;34m\u001b[0m\u001b[0m\n\u001b[0;32m---> 13\u001b[0;31m       \u001b[0mchoice\u001b[0m \u001b[0;34m=\u001b[0m \u001b[0mint\u001b[0m\u001b[0;34m(\u001b[0m\u001b[0minput\u001b[0m\u001b[0;34m(\u001b[0m\u001b[0;34m\"Choose an option:\"\u001b[0m\u001b[0;34m)\u001b[0m\u001b[0;34m)\u001b[0m\u001b[0;34m\u001b[0m\u001b[0;34m\u001b[0m\u001b[0m\n\u001b[0m\u001b[1;32m     14\u001b[0m       \u001b[0;32mif\u001b[0m \u001b[0mchoice\u001b[0m \u001b[0;34m==\u001b[0m \u001b[0;36m1\u001b[0m\u001b[0;34m:\u001b[0m\u001b[0;34m\u001b[0m\u001b[0;34m\u001b[0m\u001b[0m\n\u001b[1;32m     15\u001b[0m         \u001b[0;32mtry\u001b[0m\u001b[0;34m:\u001b[0m\u001b[0;34m\u001b[0m\u001b[0;34m\u001b[0m\u001b[0m\n",
            "\u001b[0;32m/usr/local/lib/python3.11/dist-packages/ipykernel/kernelbase.py\u001b[0m in \u001b[0;36mraw_input\u001b[0;34m(self, prompt)\u001b[0m\n\u001b[1;32m    849\u001b[0m                 \u001b[0;34m\"raw_input was called, but this frontend does not support input requests.\"\u001b[0m\u001b[0;34m\u001b[0m\u001b[0;34m\u001b[0m\u001b[0m\n\u001b[1;32m    850\u001b[0m             )\n\u001b[0;32m--> 851\u001b[0;31m         return self._input_request(str(prompt),\n\u001b[0m\u001b[1;32m    852\u001b[0m             \u001b[0mself\u001b[0m\u001b[0;34m.\u001b[0m\u001b[0m_parent_ident\u001b[0m\u001b[0;34m,\u001b[0m\u001b[0;34m\u001b[0m\u001b[0;34m\u001b[0m\u001b[0m\n\u001b[1;32m    853\u001b[0m             \u001b[0mself\u001b[0m\u001b[0;34m.\u001b[0m\u001b[0m_parent_header\u001b[0m\u001b[0;34m,\u001b[0m\u001b[0;34m\u001b[0m\u001b[0;34m\u001b[0m\u001b[0m\n",
            "\u001b[0;32m/usr/local/lib/python3.11/dist-packages/ipykernel/kernelbase.py\u001b[0m in \u001b[0;36m_input_request\u001b[0;34m(self, prompt, ident, parent, password)\u001b[0m\n\u001b[1;32m    893\u001b[0m             \u001b[0;32mexcept\u001b[0m \u001b[0mKeyboardInterrupt\u001b[0m\u001b[0;34m:\u001b[0m\u001b[0;34m\u001b[0m\u001b[0;34m\u001b[0m\u001b[0m\n\u001b[1;32m    894\u001b[0m                 \u001b[0;31m# re-raise KeyboardInterrupt, to truncate traceback\u001b[0m\u001b[0;34m\u001b[0m\u001b[0;34m\u001b[0m\u001b[0m\n\u001b[0;32m--> 895\u001b[0;31m                 \u001b[0;32mraise\u001b[0m \u001b[0mKeyboardInterrupt\u001b[0m\u001b[0;34m(\u001b[0m\u001b[0;34m\"Interrupted by user\"\u001b[0m\u001b[0;34m)\u001b[0m \u001b[0;32mfrom\u001b[0m \u001b[0;32mNone\u001b[0m\u001b[0;34m\u001b[0m\u001b[0;34m\u001b[0m\u001b[0m\n\u001b[0m\u001b[1;32m    896\u001b[0m             \u001b[0;32mexcept\u001b[0m \u001b[0mException\u001b[0m \u001b[0;32mas\u001b[0m \u001b[0me\u001b[0m\u001b[0;34m:\u001b[0m\u001b[0;34m\u001b[0m\u001b[0;34m\u001b[0m\u001b[0m\n\u001b[1;32m    897\u001b[0m                 \u001b[0mself\u001b[0m\u001b[0;34m.\u001b[0m\u001b[0mlog\u001b[0m\u001b[0;34m.\u001b[0m\u001b[0mwarning\u001b[0m\u001b[0;34m(\u001b[0m\u001b[0;34m\"Invalid Message:\"\u001b[0m\u001b[0;34m,\u001b[0m \u001b[0mexc_info\u001b[0m\u001b[0;34m=\u001b[0m\u001b[0;32mTrue\u001b[0m\u001b[0;34m)\u001b[0m\u001b[0;34m\u001b[0m\u001b[0;34m\u001b[0m\u001b[0m\n",
            "\u001b[0;31mKeyboardInterrupt\u001b[0m: Interrupted by user"
          ]
        }
      ],
      "source": [
        "main()"
      ]
    },
    {
      "cell_type": "markdown",
      "metadata": {
        "id": "LYSC1XgQGhpm"
      },
      "source": [
        "all that's left is to create the main menu\n"
      ]
    }
  ],
  "metadata": {
    "colab": {
      "provenance": [],
      "authorship_tag": "ABX9TyOqyKQW3Johf//29EtlsNkc",
      "include_colab_link": true
    },
    "kernelspec": {
      "display_name": "Python 3",
      "name": "python3"
    },
    "language_info": {
      "name": "python"
    }
  },
  "nbformat": 4,
  "nbformat_minor": 0
}