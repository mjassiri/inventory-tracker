{
  "cells": [
    {
      "cell_type": "markdown",
      "metadata": {
        "id": "view-in-github",
        "colab_type": "text"
      },
      "source": [
        "<a href=\"https://colab.research.google.com/github/mjassiri/inventory-tracker/blob/main/inventory_tracker.ipynb\" target=\"_parent\"><img src=\"https://colab.research.google.com/assets/colab-badge.svg\" alt=\"Open In Colab\"/></a>"
      ]
    },
    {
      "cell_type": "code",
      "execution_count": 3,
      "metadata": {
        "colab": {
          "base_uri": "https://localhost:8080/"
        },
        "id": "5sNEM_lY8yym",
        "outputId": "b7971cd1-43bf-4dd9-c33c-6f2382b6e6aa"
      },
      "outputs": [
        {
          "output_type": "stream",
          "name": "stdout",
          "text": [
            "Mounted at /content/drive\n"
          ]
        }
      ],
      "source": [
        "from google.colab import drive\n",
        "drive.mount('/content/drive')\n",
        "import json\n",
        "import os\n",
        "\n",
        "FILEPATH = \"/content/drive/MyDrive/inventory.json\""
      ]
    },
    {
      "cell_type": "code",
      "execution_count": 4,
      "metadata": {
        "id": "UblqpS2r9GUD"
      },
      "outputs": [],
      "source": [
        "class InventoryManager:\n",
        "    def __init__(self):\n",
        "        self.inventory = {}\n",
        "        self.load_inventory()\n",
        "\n",
        "    def load_inventory(self):\n",
        "        if os.path.exists(FILEPATH):\n",
        "            with open(FILEPATH, 'r') as file:\n",
        "                self.inventory = json.load(file)\n",
        "        else:\n",
        "            self.inventory = {}\n",
        "\n",
        "    def save_inventory(self):\n",
        "        with open(FILEPATH, 'w') as file:\n",
        "            json.dump(self.inventory, file)\n",
        "\n",
        "    def add_product(self, product_id, item, price, quantity):\n",
        "      self.inventory[product_id] = {\n",
        "          \"item\": item,\n",
        "          \"price\": price,\n",
        "          \"quantity\": quantity\n",
        "      }\n",
        "      self.save_inventory()\n",
        "      return True\n",
        "\n",
        "    def remove_product(self, product_id):\n",
        "      if product_id in self.inventory:\n",
        "        del self.inventory[product_id]\n",
        "        self.save_inventory()\n",
        "        return True\n",
        "      else:\n",
        "        return False\n",
        "\n",
        "    def edit_product(self, product_id, item, price, quantity):\n",
        "      if product_id in self.inventory:\n",
        "        self.inventory[product_id] = {\n",
        "            \"item\": item,\n",
        "            \"price\": price,\n",
        "            \"quantity\": quantity\n",
        "        }\n",
        "        self.save_inventory()\n",
        "        return True\n",
        "      else:\n",
        "        return False\n",
        "\n",
        "    def view_products(self):\n",
        "      return self.inventory\n",
        "\n",
        "    def view_product(self, product_id):\n",
        "      return self.inventory.get(product_id)"
      ]
    },
    {
      "cell_type": "code",
      "execution_count": 5,
      "metadata": {
        "id": "Kn47saEuGXbJ"
      },
      "outputs": [],
      "source": [
        "def main():\n",
        "  manager = InventoryManager()\n",
        "  while True:\n",
        "    print(\"Inventory Tracker\")\n",
        "    print(\"1.Add product\")\n",
        "    print(\"2.Remove product\")\n",
        "    print(\"3.Edit product\")\n",
        "    print(\"4.View specific product\")\n",
        "    print(\"5.View all products\")\n",
        "    print(\"6.Exit\")\n",
        "\n",
        "    try:\n",
        "      choice = int(input(\"Choose an option:\"))\n",
        "      if choice == 1:\n",
        "        try:\n",
        "          product_id = input(\"Enter Product ID:\")\n",
        "          item = input(\"Enter item name:\")\n",
        "          price = float(input(\"Enter item price:\"))\n",
        "          quantity = int(input(\"Enter item quantity:\"))\n",
        "          if manager.add_product(product_id, item, price, quantity):\n",
        "            print(\"Product successfully added!\")\n",
        "        except ValueError:\n",
        "          print(\"Please enter valid price or quantity\")\n",
        "      elif choice == 2:\n",
        "        product_id = input(\"Enter Product ID:\")\n",
        "        if manager.remove_product(product_id):\n",
        "          print(f\"Product ID: {product_id} successfully deleted\")\n",
        "        else:\n",
        "          print(f\"Product ID: {product_id} does not exist\")\n",
        "      elif choice == 3:\n",
        "        try:\n",
        "          product_id = input(\"Enter product ID:\")\n",
        "          item = input(\"Confirm item name:\")\n",
        "          price = float(input(\"Enter new item price:\"))\n",
        "          quantity = int(input(\"Enter new quantity of product:\"))\n",
        "          if manager.edit_product(product_id, item, price, quantity):\n",
        "            print(f\"Product ID: {product_id} successfully edited!\")\n",
        "          else:\n",
        "            print(f\"Product ID: {product_id} does not exist\")\n",
        "        except ValueError:\n",
        "          print(\"Please enter valid price or quantity\")\n",
        "      elif choice == 4:\n",
        "        product_id = input(\"Enter product ID:\")\n",
        "        product = manager.view_product(product_id)\n",
        "        if product:\n",
        "          print(f\"Item: {product['item']}\")\n",
        "          print(f\"Price: {product['price']}\")\n",
        "          print(f\"Quantity: {product['quantity']}\")\n",
        "        else:\n",
        "          print(f\"Product ID: {product_id} does not exist\")\n",
        "      elif choice == 5:\n",
        "        print(manager.view_products())\n",
        "      elif choice == 6:\n",
        "        break\n",
        "\n",
        "      else:\n",
        "        print(\"Invalid option. Please choose 1-6.\")\n",
        "\n",
        "    except ValueError:\n",
        "      print(\"Please enter a valid input\")\n",
        "\n",
        "\n",
        "\n",
        "\n",
        "\n",
        "\n",
        "\n",
        "\n",
        "\n",
        "\n",
        "\n",
        "\n",
        "\n",
        "\n",
        "\n",
        "\n",
        "\n"
      ]
    },
    {
      "cell_type": "code",
      "execution_count": null,
      "metadata": {
        "colab": {
          "base_uri": "https://localhost:8080/"
        },
        "id": "o4o1tKnZkb5g",
        "outputId": "af63e204-6b2f-4c1e-8607-7ab46f281068"
      },
      "outputs": [
        {
          "output_type": "stream",
          "name": "stdout",
          "text": [
            "Inventory Tracker\n",
            "1.Add product\n",
            "2.Remove product\n",
            "3.Edit product\n",
            "4.View specific product\n",
            "5.View all products\n",
            "6.Exit\n"
          ]
        }
      ],
      "source": [
        "main()"
      ]
    }
  ],
  "metadata": {
    "colab": {
      "provenance": [],
      "authorship_tag": "ABX9TyP1XU3EaoMEPvyyktBJQ08F",
      "include_colab_link": true
    },
    "kernelspec": {
      "display_name": "Python 3",
      "name": "python3"
    },
    "language_info": {
      "name": "python"
    }
  },
  "nbformat": 4,
  "nbformat_minor": 0
}